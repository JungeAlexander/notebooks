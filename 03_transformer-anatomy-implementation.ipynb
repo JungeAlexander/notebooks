{
 "cells": [
  {
   "cell_type": "markdown",
   "id": "68b941b5-baf1-4201-ba36-eeca1b8f1a03",
   "metadata": {},
   "source": [
    "# Chapter 3. Transformer Anatomy"
   ]
  },
  {
   "cell_type": "code",
   "execution_count": null,
   "id": "7a169426-d387-44a7-bdbf-822fb6259815",
   "metadata": {},
   "outputs": [],
   "source": [
    "from utils import *\n",
    "setup_chapter()"
   ]
  },
  {
   "cell_type": "code",
   "execution_count": null,
   "id": "c540d300-d646-42e5-af09-bcabecdd7b7e",
   "metadata": {},
   "outputs": [],
   "source": []
  }
 ],
 "metadata": {
  "kernelspec": {
   "display_name": "nlp-with-transformers-notebooks",
   "language": "python",
   "name": "nlp-with-transformers-notebooks"
  },
  "language_info": {
   "codemirror_mode": {
    "name": "ipython",
    "version": 3
   },
   "file_extension": ".py",
   "mimetype": "text/x-python",
   "name": "python",
   "nbconvert_exporter": "python",
   "pygments_lexer": "ipython3",
   "version": "3.9.9"
  }
 },
 "nbformat": 4,
 "nbformat_minor": 5
}
